{
 "cells": [
  {
   "cell_type": "code",
   "execution_count": null,
   "metadata": {},
   "outputs": [],
   "source": [
    "import tensorflow as tf\n",
    "\n",
    "from tensorflow.keras.preprocessing.image import (\n",
    "    ImageDataGenerator, \n",
    "    array_to_img, \n",
    "    img_to_array, \n",
    "    load_img\n",
    ")"
   ]
  },
  {
   "cell_type": "markdown",
   "metadata": {},
   "source": [
    "## Working with Images"
   ]
  },
  {
   "cell_type": "code",
   "execution_count": null,
   "metadata": {},
   "outputs": [],
   "source": [
    "path_to_image = None # Your path after downloading the data\n",
    "\n",
    "image = load_img(path_to_image)\n",
    "\n",
    "image"
   ]
  },
  {
   "cell_type": "code",
   "execution_count": null,
   "metadata": {},
   "outputs": [],
   "source": [
    "type(image)"
   ]
  },
  {
   "cell_type": "code",
   "execution_count": null,
   "metadata": {},
   "outputs": [],
   "source": [
    "# Converting from PIL image types to numpy arrays is easy. Explore some properties:\n",
    "img_array = img_to_array(image)\n",
    "print(img_array.shape)\n",
    "print(img_array.max())\n",
    "print(img_array.min())"
   ]
  },
  {
   "cell_type": "code",
   "execution_count": null,
   "metadata": {},
   "outputs": [
    {
     "data": {
      "text/plain": [
       "(256, 256)"
      ]
     },
     "execution_count": 18,
     "metadata": {},
     "output_type": "execute_result"
    }
   ],
   "source": [
    "# Conversely, numpy arrays can be easilz turned into PIL images\n",
    "array_to_img(img_array).size"
   ]
  },
  {
   "cell_type": "markdown",
   "metadata": {},
   "source": [
    "### Understanding `ImageDataGenerator` for Data Augmentation\n",
    "\n",
    "When training deep learning models, especially in computer vision tasks, having a large dataset is crucial for improving model generalization and performance. However, collecting a large dataset can be challenging. This is where **data augmentation** helps.\n",
    "\n",
    "#### What is `ImageDataGenerator`?\n",
    "The `ImageDataGenerator` class in Keras provides a way to augment image data by applying random transformations to images in each batch during training. This helps improve model robustness and prevents overfitting.\n",
    "\n",
    "#### Code Breakdown:\n",
    "\n",
    "Each parameter in `ImageDataGenerator` applies a specific transformation:\n",
    "\n",
    "- `rotation_range=40`: Rotates images randomly within a range of ±40 degrees.\n",
    "- `width_shift_range=0.2`: Shifts the image horizontally by up to 20% of the image width.\n",
    "- `height_shift_range=0.2`: Shifts the image vertically by up to 20% of the image height.\n",
    "- `rescale=1./255`: Normalizes pixel values by scaling them between 0 and 1.\n",
    "- `shear_range=0.2`: Applies a shear transformation with a magnitude of 20%.\n",
    "- `zoom_range=0.2`: Zooms into or out of the image by up to 20%.\n",
    "- `horizontal_flip=True`: Randomly flips images horizontally.\n",
    "- `fill_mode='nearest'`: Determines how pixels are filled in after transformations (nearest neighbor interpolation in this case)."
   ]
  },
  {
   "cell_type": "code",
   "execution_count": 11,
   "metadata": {},
   "outputs": [],
   "source": [
    "datagen = ImageDataGenerator(\n",
    "        rotation_range=40,\n",
    "        width_shift_range=0.2,\n",
    "        height_shift_range=0.2,\n",
    "        rescale=1./255,\n",
    "        shear_range=0.2,\n",
    "        zoom_range=0.2,\n",
    "        horizontal_flip=True,\n",
    "        fill_mode='nearest'\n",
    ")"
   ]
  },
  {
   "cell_type": "markdown",
   "metadata": {},
   "source": [
    "Below is an example of how to create a training generator that will fetch batches from disk instead of loading the full data. You should split the data into train / test folders and create a train and validation generators."
   ]
  },
  {
   "cell_type": "code",
   "execution_count": null,
   "metadata": {},
   "outputs": [
    {
     "name": "stdout",
     "output_type": "stream",
     "text": [
      "Found 7558 images belonging to 7 classes.\n"
     ]
    }
   ],
   "source": [
    "train_directory = None # Your path to directory\n",
    "\n",
    "train_generator = datagen.flow_from_directory(\n",
    "        train_directory,\n",
    "        target_size=(64, 64), # we will reduce the size of images for faster training\n",
    "        batch_size=8 # we will use a smaller batch size\n",
    ")"
   ]
  },
  {
   "cell_type": "markdown",
   "metadata": {},
   "source": [
    "### Building the Convolutional Neural Network (CNN)"
   ]
  },
  {
   "cell_type": "code",
   "execution_count": 15,
   "metadata": {},
   "outputs": [],
   "source": [
    "### Your code here"
   ]
  },
  {
   "cell_type": "markdown",
   "metadata": {},
   "source": [
    "### Training the Network"
   ]
  },
  {
   "cell_type": "code",
   "execution_count": null,
   "metadata": {},
   "outputs": [],
   "source": [
    "### Your code here"
   ]
  },
  {
   "cell_type": "markdown",
   "metadata": {},
   "source": [
    "### Evaluation"
   ]
  },
  {
   "cell_type": "code",
   "execution_count": null,
   "metadata": {},
   "outputs": [],
   "source": [
    "### Your code here"
   ]
  }
 ],
 "metadata": {
  "kernelspec": {
   "display_name": "behavioral-data-science",
   "language": "python",
   "name": "python3"
  },
  "language_info": {
   "codemirror_mode": {
    "name": "ipython",
    "version": 3
   },
   "file_extension": ".py",
   "mimetype": "text/x-python",
   "name": "python",
   "nbconvert_exporter": "python",
   "pygments_lexer": "ipython3",
   "version": "3.12.0"
  }
 },
 "nbformat": 4,
 "nbformat_minor": 2
}
